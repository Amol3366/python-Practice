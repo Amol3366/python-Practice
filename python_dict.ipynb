{
 "cells": [
  {
   "cell_type": "markdown",
   "metadata": {},
   "source": [
    "# Dictionaries"
   ]
  },
  {
   "cell_type": "code",
   "execution_count": 17,
   "metadata": {},
   "outputs": [],
   "source": [
    "lst = ['zero', 'one', 'two']"
   ]
  },
  {
   "cell_type": "code",
   "execution_count": 18,
   "metadata": {},
   "outputs": [
    {
     "data": {
      "text/plain": [
       "'one'"
      ]
     },
     "execution_count": 18,
     "metadata": {},
     "output_type": "execute_result"
    }
   ],
   "source": [
    "lst[1]"
   ]
  },
  {
   "cell_type": "code",
   "execution_count": 19,
   "metadata": {},
   "outputs": [
    {
     "ename": "TypeError",
     "evalue": "list indices must be integers or slices, not str",
     "output_type": "error",
     "traceback": [
      "\u001b[1;31m---------------------------------------------------------------------------\u001b[0m",
      "\u001b[1;31mTypeError\u001b[0m                                 Traceback (most recent call last)",
      "Cell \u001b[1;32mIn[19], line 1\u001b[0m\n\u001b[1;32m----> 1\u001b[0m \u001b[43mlst\u001b[49m\u001b[43m[\u001b[49m\u001b[38;5;124;43m'\u001b[39;49m\u001b[38;5;124;43mone\u001b[39;49m\u001b[38;5;124;43m'\u001b[39;49m\u001b[43m]\u001b[49m\n",
      "\u001b[1;31mTypeError\u001b[0m: list indices must be integers or slices, not str"
     ]
    }
   ],
   "source": [
    "lst['one']"
   ]
  },
  {
   "cell_type": "code",
   "execution_count": 20,
   "metadata": {},
   "outputs": [
    {
     "data": {
      "text/plain": [
       "{}"
      ]
     },
     "execution_count": 20,
     "metadata": {},
     "output_type": "execute_result"
    }
   ],
   "source": [
    "numbers = {}\n",
    "numbers"
   ]
  },
  {
   "cell_type": "code",
   "execution_count": 21,
   "metadata": {},
   "outputs": [],
   "source": [
    "numbers['zero'] = 0    # to add in dictionary "
   ]
  },
  {
   "cell_type": "code",
   "execution_count": 22,
   "metadata": {},
   "outputs": [
    {
     "data": {
      "text/plain": [
       "{'zero': 0}"
      ]
     },
     "execution_count": 22,
     "metadata": {},
     "output_type": "execute_result"
    }
   ],
   "source": [
    "numbers"
   ]
  },
  {
   "cell_type": "code",
   "execution_count": 23,
   "metadata": {},
   "outputs": [
    {
     "data": {
      "text/plain": [
       "{'zero': 0, 'one': 1, 'two': 2}"
      ]
     },
     "execution_count": 23,
     "metadata": {},
     "output_type": "execute_result"
    }
   ],
   "source": [
    "numbers['one'] = 1\n",
    "numbers['two'] = 2 \n",
    "numbers\n",
    "\n"
   ]
  },
  {
   "cell_type": "code",
   "execution_count": 24,
   "metadata": {},
   "outputs": [
    {
     "data": {
      "text/plain": [
       "2"
      ]
     },
     "execution_count": 24,
     "metadata": {},
     "output_type": "execute_result"
    }
   ],
   "source": [
    "numbers['two']"
   ]
  },
  {
   "cell_type": "code",
   "execution_count": 25,
   "metadata": {},
   "outputs": [
    {
     "ename": "KeyError",
     "evalue": "'three'",
     "output_type": "error",
     "traceback": [
      "\u001b[1;31m---------------------------------------------------------------------------\u001b[0m",
      "\u001b[1;31mKeyError\u001b[0m                                  Traceback (most recent call last)",
      "Cell \u001b[1;32mIn[25], line 1\u001b[0m\n\u001b[1;32m----> 1\u001b[0m \u001b[43mnumbers\u001b[49m\u001b[43m[\u001b[49m\u001b[38;5;124;43m'\u001b[39;49m\u001b[38;5;124;43mthree\u001b[39;49m\u001b[38;5;124;43m'\u001b[39;49m\u001b[43m]\u001b[49m\n",
      "\u001b[1;31mKeyError\u001b[0m: 'three'"
     ]
    }
   ],
   "source": [
    "numbers['three']"
   ]
  },
  {
   "cell_type": "code",
   "execution_count": 26,
   "metadata": {},
   "outputs": [
    {
     "data": {
      "text/plain": [
       "3"
      ]
     },
     "execution_count": 26,
     "metadata": {},
     "output_type": "execute_result"
    }
   ],
   "source": [
    "len(numbers)"
   ]
  },
  {
   "cell_type": "markdown",
   "metadata": {},
   "source": [
    "### Creating dictinories"
   ]
  },
  {
   "cell_type": "code",
   "execution_count": 27,
   "metadata": {},
   "outputs": [],
   "source": [
    "numbers = {'zero':0, 'one':1, 'two':2}"
   ]
  },
  {
   "cell_type": "code",
   "execution_count": 28,
   "metadata": {},
   "outputs": [
    {
     "data": {
      "text/plain": [
       "{}"
      ]
     },
     "execution_count": 28,
     "metadata": {},
     "output_type": "execute_result"
    }
   ],
   "source": [
    "# create dictinory using 'dict'\n",
    "empty = dict()\n",
    "empty"
   ]
  },
  {
   "cell_type": "code",
   "execution_count": 29,
   "metadata": {},
   "outputs": [
    {
     "data": {
      "text/plain": [
       "{'zero': 0, 'one': 1, 'two': 2}"
      ]
     },
     "execution_count": 29,
     "metadata": {},
     "output_type": "execute_result"
    }
   ],
   "source": [
    "# to copy \n",
    "numbers_copy = dict(numbers)\n",
    "numbers_copy"
   ]
  },
  {
   "cell_type": "markdown",
   "metadata": {},
   "source": [
    "### The in operator"
   ]
  },
  {
   "cell_type": "code",
   "execution_count": 30,
   "metadata": {},
   "outputs": [
    {
     "data": {
      "text/plain": [
       "True"
      ]
     },
     "execution_count": 30,
     "metadata": {},
     "output_type": "execute_result"
    }
   ],
   "source": [
    "'one' in numbers # It can only check keys in dictionaries"
   ]
  },
  {
   "cell_type": "code",
   "execution_count": 31,
   "metadata": {},
   "outputs": [
    {
     "data": {
      "text/plain": [
       "False"
      ]
     },
     "execution_count": 31,
     "metadata": {},
     "output_type": "execute_result"
    }
   ],
   "source": [
    "1 in numbers # not worked for values"
   ]
  },
  {
   "cell_type": "code",
   "execution_count": 32,
   "metadata": {},
   "outputs": [
    {
     "data": {
      "text/plain": [
       "466550"
      ]
     },
     "execution_count": 32,
     "metadata": {},
     "output_type": "execute_result"
    }
   ],
   "source": [
    "word_list = open('words.txt').read().split()\n",
    "len(word_list)"
   ]
  },
  {
   "cell_type": "code",
   "execution_count": 33,
   "metadata": {},
   "outputs": [],
   "source": [
    "def reverse_word(word):\n",
    "    return ''.join(reversed(word))"
   ]
  },
  {
   "cell_type": "code",
   "execution_count": 34,
   "metadata": {},
   "outputs": [],
   "source": [
    "def too_slow():\n",
    "    count = 0\n",
    "    for word in word_list:\n",
    "        reversed_word = reverse_word(word)\n",
    "        if reversed_word in word_list:\n",
    "            count += 1\n",
    "    return count"
   ]
  },
  {
   "cell_type": "code",
   "execution_count": 35,
   "metadata": {},
   "outputs": [
    {
     "data": {
      "text/plain": [
       "466550"
      ]
     },
     "execution_count": 35,
     "metadata": {},
     "output_type": "execute_result"
    }
   ],
   "source": [
    "len(word_list)"
   ]
  },
  {
   "cell_type": "code",
   "execution_count": 36,
   "metadata": {},
   "outputs": [],
   "source": [
    "# too_slow()"
   ]
  },
  {
   "cell_type": "code",
   "execution_count": 37,
   "metadata": {},
   "outputs": [],
   "source": [
    "word_dict = {}\n",
    "for word in word_list:\n",
    "    word_dict[word] = 1"
   ]
  },
  {
   "cell_type": "code",
   "execution_count": 38,
   "metadata": {},
   "outputs": [
    {
     "data": {
      "text/plain": [
       "{'2': 1,\n",
       " '1080': 1,\n",
       " '&c': 1,\n",
       " '10-point': 1,\n",
       " '10th': 1,\n",
       " '11-point': 1,\n",
       " '12-point': 1,\n",
       " '16-point': 1,\n",
       " '18-point': 1,\n",
       " '1st': 1,\n",
       " '2,4,5-t': 1,\n",
       " '2,4-d': 1,\n",
       " '20-point': 1,\n",
       " '2D': 1,\n",
       " '2nd': 1,\n",
       " '30-30': 1,\n",
       " '3D': 1,\n",
       " '3-D': 1,\n",
       " '3M': 1,\n",
       " '3rd': 1,\n",
       " '48-point': 1,\n",
       " '4-D': 1,\n",
       " '4GL': 1,\n",
       " '4H': 1,\n",
       " '4th': 1,\n",
       " '5-point': 1,\n",
       " '5-T': 1,\n",
       " '5th': 1,\n",
       " '6-point': 1,\n",
       " '6th': 1,\n",
       " '7-point': 1,\n",
       " '7th': 1,\n",
       " '8-point': 1,\n",
       " '8th': 1,\n",
       " '9-point': 1,\n",
       " '9th': 1,\n",
       " 'a': 1,\n",
       " \"a'\": 1,\n",
       " 'a-': 1,\n",
       " 'A&M': 1,\n",
       " 'A&P': 1,\n",
       " 'A.': 1,\n",
       " 'A.A.A.': 1,\n",
       " 'A.B.': 1,\n",
       " 'A.B.A.': 1,\n",
       " 'A.C.': 1,\n",
       " 'A.D.': 1,\n",
       " 'A.D.C.': 1,\n",
       " 'A.F.': 1,\n",
       " 'A.F.A.M.': 1,\n",
       " 'A.G.': 1,\n",
       " 'A.H.': 1,\n",
       " 'A.I.': 1,\n",
       " 'A.I.A.': 1,\n",
       " 'A.I.D.': 1,\n",
       " 'A.L.': 1,\n",
       " 'A.L.P.': 1,\n",
       " 'A.M.': 1,\n",
       " 'A.M.A.': 1,\n",
       " 'A.M.D.G.': 1,\n",
       " 'A.N.': 1,\n",
       " 'a.p.': 1,\n",
       " 'a.r.': 1,\n",
       " 'A.R.C.S.': 1,\n",
       " 'A.U.': 1,\n",
       " 'A.U.C.': 1,\n",
       " 'A.V.': 1,\n",
       " 'a.w.': 1,\n",
       " 'A.W.O.L.': 1,\n",
       " 'A/C': 1,\n",
       " 'A/F': 1,\n",
       " 'A/O': 1,\n",
       " 'A/P': 1,\n",
       " 'A/V': 1,\n",
       " 'A1': 1,\n",
       " 'A-1': 1,\n",
       " 'A4': 1,\n",
       " 'A5': 1,\n",
       " 'AA': 1,\n",
       " 'AAA': 1,\n",
       " 'AAAA': 1,\n",
       " 'AAAAAA': 1,\n",
       " 'AAAL': 1,\n",
       " 'AAAS': 1,\n",
       " 'Aaberg': 1,\n",
       " 'Aachen': 1,\n",
       " 'AAE': 1,\n",
       " 'AAEE': 1,\n",
       " 'AAF': 1,\n",
       " 'AAG': 1,\n",
       " 'aah': 1,\n",
       " 'aahed': 1,\n",
       " 'aahing': 1,\n",
       " 'aahs': 1,\n",
       " 'AAII': 1,\n",
       " 'aal': 1,\n",
       " 'Aalborg': 1,\n",
       " 'Aalesund': 1,\n",
       " 'aalii': 1,\n",
       " 'aaliis': 1,\n",
       " 'aals': 1,\n",
       " 'Aalst': 1,\n",
       " 'Aalto': 1,\n",
       " 'AAM': 1,\n",
       " 'AAMSI': 1,\n",
       " 'Aandahl': 1,\n",
       " 'A-and-R': 1,\n",
       " 'Aani': 1,\n",
       " 'AAO': 1,\n",
       " 'AAP': 1,\n",
       " 'AAPSS': 1,\n",
       " 'Aaqbiye': 1,\n",
       " 'Aar': 1,\n",
       " 'Aara': 1,\n",
       " 'Aarau': 1,\n",
       " 'AARC': 1,\n",
       " 'aardvark': 1,\n",
       " 'aardvarks': 1,\n",
       " 'aardwolf': 1,\n",
       " 'aardwolves': 1,\n",
       " 'Aaren': 1,\n",
       " 'Aargau': 1,\n",
       " 'aargh': 1,\n",
       " 'Aarhus': 1,\n",
       " 'Aarika': 1,\n",
       " 'Aaron': 1,\n",
       " 'Aaronic': 1,\n",
       " 'Aaronical': 1,\n",
       " 'Aaronite': 1,\n",
       " 'Aaronitic': 1,\n",
       " \"Aaron's-beard\": 1,\n",
       " 'Aaronsburg': 1,\n",
       " 'Aaronson': 1,\n",
       " 'AARP': 1,\n",
       " 'aarrgh': 1,\n",
       " 'aarrghh': 1,\n",
       " 'Aaru': 1,\n",
       " 'AAS': 1,\n",
       " \"A'asia\": 1,\n",
       " 'aasvogel': 1,\n",
       " 'aasvogels': 1,\n",
       " 'AAU': 1,\n",
       " 'AAUP': 1,\n",
       " 'AAUW': 1,\n",
       " 'AAVSO': 1,\n",
       " 'AAX': 1,\n",
       " 'A-axes': 1,\n",
       " 'A-axis': 1,\n",
       " 'AB': 1,\n",
       " 'ab-': 1,\n",
       " 'ABA': 1,\n",
       " 'Ababa': 1,\n",
       " 'Ababdeh': 1,\n",
       " 'Ababua': 1,\n",
       " 'abac': 1,\n",
       " 'abaca': 1,\n",
       " 'abacay': 1,\n",
       " 'abacas': 1,\n",
       " 'abacate': 1,\n",
       " 'abacaxi': 1,\n",
       " 'abaci': 1,\n",
       " 'abacinate': 1,\n",
       " 'abacination': 1,\n",
       " 'abacisci': 1,\n",
       " 'abaciscus': 1,\n",
       " 'abacist': 1,\n",
       " 'aback': 1,\n",
       " 'abacli': 1,\n",
       " 'Abaco': 1,\n",
       " 'abacot': 1,\n",
       " 'abacterial': 1,\n",
       " 'abactinal': 1,\n",
       " 'abactinally': 1,\n",
       " 'abaction': 1,\n",
       " 'abactor': 1,\n",
       " 'abaculi': 1,\n",
       " 'abaculus': 1,\n",
       " 'abacus': 1,\n",
       " 'abacuses': 1,\n",
       " 'Abad': 1,\n",
       " 'abada': 1,\n",
       " 'Abadan': 1,\n",
       " 'Abaddon': 1,\n",
       " 'abadejo': 1,\n",
       " 'abadengo': 1,\n",
       " 'abadia': 1,\n",
       " 'Abadite': 1,\n",
       " 'abaff': 1,\n",
       " 'abaft': 1,\n",
       " 'Abagael': 1,\n",
       " 'Abagail': 1,\n",
       " 'Abagtha': 1,\n",
       " 'abay': 1,\n",
       " 'abayah': 1,\n",
       " 'Abailard': 1,\n",
       " 'abaisance': 1,\n",
       " 'abaised': 1,\n",
       " 'abaiser': 1,\n",
       " 'abaisse': 1,\n",
       " 'abaissed': 1,\n",
       " 'abaka': 1,\n",
       " 'Abakan': 1,\n",
       " 'abakas': 1,\n",
       " 'Abakumov': 1,\n",
       " 'abalation': 1,\n",
       " 'abalienate': 1,\n",
       " 'abalienated': 1,\n",
       " 'abalienating': 1,\n",
       " 'abalienation': 1,\n",
       " 'abalone': 1,\n",
       " 'abalones': 1,\n",
       " 'Abama': 1,\n",
       " 'abamp': 1,\n",
       " 'abampere': 1,\n",
       " 'abamperes': 1,\n",
       " 'abamps': 1,\n",
       " 'Abana': 1,\n",
       " 'aband': 1,\n",
       " 'abandon': 1,\n",
       " 'abandonable': 1,\n",
       " 'abandoned': 1,\n",
       " 'abandonedly': 1,\n",
       " 'abandonee': 1,\n",
       " 'abandoner': 1,\n",
       " 'abandoners': 1,\n",
       " 'abandoning': 1,\n",
       " 'abandonment': 1,\n",
       " 'abandonments': 1,\n",
       " 'abandons': 1,\n",
       " 'abandum': 1,\n",
       " 'abanet': 1,\n",
       " 'abanga': 1,\n",
       " 'Abanic': 1,\n",
       " 'abannition': 1,\n",
       " 'Abantes': 1,\n",
       " 'abapical': 1,\n",
       " 'abaptiston': 1,\n",
       " 'abaptistum': 1,\n",
       " 'Abarambo': 1,\n",
       " 'Abarbarea': 1,\n",
       " 'Abaris': 1,\n",
       " 'abarthrosis': 1,\n",
       " 'abarticular': 1,\n",
       " 'abarticulation': 1,\n",
       " 'Abas': 1,\n",
       " 'abase': 1,\n",
       " 'abased': 1,\n",
       " 'abasedly': 1,\n",
       " 'abasedness': 1,\n",
       " 'abasement': 1,\n",
       " 'abasements': 1,\n",
       " 'abaser': 1,\n",
       " 'abasers': 1,\n",
       " 'abases': 1,\n",
       " 'Abasgi': 1,\n",
       " 'abash': 1,\n",
       " 'abashed': 1,\n",
       " 'abashedly': 1,\n",
       " 'abashedness': 1,\n",
       " 'abashes': 1,\n",
       " 'abashing': 1,\n",
       " 'abashless': 1,\n",
       " 'abashlessly': 1,\n",
       " 'abashment': 1,\n",
       " 'abashments': 1,\n",
       " 'abasia': 1,\n",
       " 'abasias': 1,\n",
       " 'abasic': 1,\n",
       " 'abasing': 1,\n",
       " 'abasio': 1,\n",
       " 'abask': 1,\n",
       " 'abassi': 1,\n",
       " 'Abassieh': 1,\n",
       " 'Abassin': 1,\n",
       " 'abastard': 1,\n",
       " 'abastardize': 1,\n",
       " 'abastral': 1,\n",
       " 'abatable': 1,\n",
       " 'abatage': 1,\n",
       " 'Abate': 1,\n",
       " 'abated': 1,\n",
       " 'abatement': 1,\n",
       " 'abatements': 1,\n",
       " 'abater': 1,\n",
       " 'abaters': 1,\n",
       " 'abates': 1,\n",
       " 'abatic': 1,\n",
       " 'abating': 1,\n",
       " 'abatis': 1,\n",
       " 'abatised': 1,\n",
       " 'abatises': 1,\n",
       " 'abatjour': 1,\n",
       " 'abatjours': 1,\n",
       " 'abaton': 1,\n",
       " 'abator': 1,\n",
       " 'abators': 1,\n",
       " 'ABATS': 1,\n",
       " 'abattage': 1,\n",
       " 'abattis': 1,\n",
       " 'abattised': 1,\n",
       " 'abattises': 1,\n",
       " 'abattoir': 1,\n",
       " 'abattoirs': 1,\n",
       " 'abattu': 1,\n",
       " 'abattue': 1,\n",
       " 'Abatua': 1,\n",
       " 'abature': 1,\n",
       " 'abaue': 1,\n",
       " 'abave': 1,\n",
       " 'abaxial': 1,\n",
       " 'abaxile': 1,\n",
       " 'abaze': 1,\n",
       " 'abb': 1,\n",
       " 'Abba': 1,\n",
       " 'abbacy': 1,\n",
       " 'abbacies': 1,\n",
       " 'abbacomes': 1,\n",
       " 'Abbadide': 1,\n",
       " 'Abbai': 1,\n",
       " 'abbaye': 1,\n",
       " 'abbandono': 1,\n",
       " 'abbas': 1,\n",
       " 'abbasi': 1,\n",
       " 'Abbasid': 1,\n",
       " 'abbassi': 1,\n",
       " 'Abbassid': 1,\n",
       " 'Abbasside': 1,\n",
       " 'Abbate': 1,\n",
       " 'abbatial': 1,\n",
       " 'abbatical': 1,\n",
       " 'abbatie': 1,\n",
       " 'Abbe': 1,\n",
       " 'Abbey': 1,\n",
       " 'abbeys': 1,\n",
       " \"abbey's\": 1,\n",
       " 'abbeystead': 1,\n",
       " 'abbeystede': 1,\n",
       " 'abbes': 1,\n",
       " 'abbess': 1,\n",
       " 'abbesses': 1,\n",
       " 'abbest': 1,\n",
       " 'Abbevilean': 1,\n",
       " 'Abbeville': 1,\n",
       " 'Abbevillian': 1,\n",
       " 'Abbi': 1,\n",
       " 'Abby': 1,\n",
       " 'Abbie': 1,\n",
       " 'Abbye': 1,\n",
       " 'Abbyville': 1,\n",
       " 'abboccato': 1,\n",
       " 'abbogada': 1,\n",
       " 'Abbot': 1,\n",
       " 'abbotcy': 1,\n",
       " 'abbotcies': 1,\n",
       " 'abbotnullius': 1,\n",
       " 'abbotric': 1,\n",
       " 'abbots': 1,\n",
       " \"abbot's\": 1,\n",
       " 'Abbotsen': 1,\n",
       " 'Abbotsford': 1,\n",
       " 'abbotship': 1,\n",
       " 'abbotships': 1,\n",
       " 'Abbotson': 1,\n",
       " 'Abbotsun': 1,\n",
       " 'Abbott': 1,\n",
       " 'Abbottson': 1,\n",
       " 'Abbottstown': 1,\n",
       " 'Abboud': 1,\n",
       " 'abbozzo': 1,\n",
       " 'ABBR': 1,\n",
       " 'abbrev': 1,\n",
       " 'abbreviatable': 1,\n",
       " 'abbreviate': 1,\n",
       " 'abbreviated': 1,\n",
       " 'abbreviately': 1,\n",
       " 'abbreviates': 1,\n",
       " 'abbreviating': 1,\n",
       " 'abbreviation': 1,\n",
       " 'abbreviations': 1,\n",
       " 'abbreviator': 1,\n",
       " 'abbreviatory': 1,\n",
       " 'abbreviators': 1,\n",
       " 'abbreviature': 1,\n",
       " 'abbroachment': 1,\n",
       " 'ABC': 1,\n",
       " 'abcess': 1,\n",
       " 'abcissa': 1,\n",
       " 'abcoulomb': 1,\n",
       " 'ABCs': 1,\n",
       " 'abd': 1,\n",
       " 'abdal': 1,\n",
       " 'abdali': 1,\n",
       " 'abdaria': 1,\n",
       " 'abdat': 1,\n",
       " 'Abdel': 1,\n",
       " 'Abd-el-Kadir': 1,\n",
       " 'Abd-el-Krim': 1,\n",
       " 'Abdella': 1,\n",
       " 'Abderhalden': 1,\n",
       " 'Abderian': 1,\n",
       " 'Abderite': 1,\n",
       " 'Abderus': 1,\n",
       " 'abdest': 1,\n",
       " 'Abdias': 1,\n",
       " 'abdicable': 1,\n",
       " 'abdicant': 1,\n",
       " 'abdicate': 1,\n",
       " 'abdicated': 1,\n",
       " 'abdicates': 1,\n",
       " 'abdicating': 1,\n",
       " 'abdication': 1,\n",
       " 'abdications': 1,\n",
       " 'abdicative': 1,\n",
       " 'abdicator': 1,\n",
       " 'Abdiel': 1,\n",
       " 'abditive': 1,\n",
       " 'abditory': 1,\n",
       " 'abdom': 1,\n",
       " 'abdomen': 1,\n",
       " 'abdomens': 1,\n",
       " \"abdomen's\": 1,\n",
       " 'abdomina': 1,\n",
       " 'abdominal': 1,\n",
       " 'Abdominales': 1,\n",
       " 'abdominalia': 1,\n",
       " 'abdominalian': 1,\n",
       " 'abdominally': 1,\n",
       " 'abdominals': 1,\n",
       " 'abdominoanterior': 1,\n",
       " 'abdominocardiac': 1,\n",
       " 'abdominocentesis': 1,\n",
       " 'abdominocystic': 1,\n",
       " 'abdominogenital': 1,\n",
       " 'abdominohysterectomy': 1,\n",
       " 'abdominohysterotomy': 1,\n",
       " 'abdominoposterior': 1,\n",
       " 'abdominoscope': 1,\n",
       " 'abdominoscopy': 1,\n",
       " 'abdominothoracic': 1,\n",
       " 'abdominous': 1,\n",
       " 'abdomino-uterotomy': 1,\n",
       " 'abdominovaginal': 1,\n",
       " 'abdominovesical': 1,\n",
       " 'Abdon': 1,\n",
       " 'Abdu': 1,\n",
       " 'abduce': 1,\n",
       " 'abduced': 1,\n",
       " 'abducens': 1,\n",
       " 'abducent': 1,\n",
       " 'abducentes': 1,\n",
       " 'abduces': 1,\n",
       " 'abducing': 1,\n",
       " 'abduct': 1,\n",
       " 'abducted': 1,\n",
       " 'abducting': 1,\n",
       " 'abduction': 1,\n",
       " 'abductions': 1,\n",
       " \"abduction's\": 1,\n",
       " 'abductor': 1,\n",
       " 'abductores': 1,\n",
       " 'abductors': 1,\n",
       " \"abductor's\": 1,\n",
       " 'abducts': 1,\n",
       " 'Abdul': 1,\n",
       " 'Abdul-Aziz': 1,\n",
       " 'Abdul-baha': 1,\n",
       " 'Abdulla': 1,\n",
       " 'Abe': 1,\n",
       " 'a-be': 1,\n",
       " 'abeam': 1,\n",
       " 'abear': 1,\n",
       " 'abearance': 1,\n",
       " 'Abebi': 1,\n",
       " 'abecedaire': 1,\n",
       " 'abecedary': 1,\n",
       " 'abecedaria': 1,\n",
       " 'abecedarian': 1,\n",
       " 'abecedarians': 1,\n",
       " 'abecedaries': 1,\n",
       " 'abecedarium': 1,\n",
       " 'abecedarius': 1,\n",
       " 'abed': 1,\n",
       " 'abede': 1,\n",
       " 'abedge': 1,\n",
       " 'Abednego': 1,\n",
       " 'abegge': 1,\n",
       " 'Abey': 1,\n",
       " 'abeyance': 1,\n",
       " 'abeyances': 1,\n",
       " 'abeyancy': 1,\n",
       " 'abeyancies': 1,\n",
       " 'abeyant': 1,\n",
       " 'abeigh': 1,\n",
       " 'ABEL': 1,\n",
       " 'Abelard': 1,\n",
       " 'abele': 1,\n",
       " 'abeles': 1,\n",
       " 'Abelia': 1,\n",
       " 'Abelian': 1,\n",
       " 'Abelicea': 1,\n",
       " 'Abelite': 1,\n",
       " 'Abell': 1,\n",
       " 'Abelmoschus': 1,\n",
       " 'abelmosk': 1,\n",
       " 'abelmosks': 1,\n",
       " 'abelmusk': 1,\n",
       " 'Abelonian': 1,\n",
       " 'Abelson': 1,\n",
       " 'abeltree': 1,\n",
       " 'Abencerrages': 1,\n",
       " 'abend': 1,\n",
       " 'abends': 1,\n",
       " 'Abenezra': 1,\n",
       " 'abenteric': 1,\n",
       " 'Abeokuta': 1,\n",
       " 'abepithymia': 1,\n",
       " 'ABEPP': 1,\n",
       " 'Abercromby': 1,\n",
       " 'Abercrombie': 1,\n",
       " 'Aberdare': 1,\n",
       " 'aberdavine': 1,\n",
       " 'Aberdeen': 1,\n",
       " 'Aberdeenshire': 1,\n",
       " 'aberdevine': 1,\n",
       " 'Aberdonian': 1,\n",
       " 'aberduvine': 1,\n",
       " 'Aberfan': 1,\n",
       " 'Aberglaube': 1,\n",
       " 'Aberia': 1,\n",
       " 'Aberystwyth': 1,\n",
       " 'Abernant': 1,\n",
       " 'Abernathy': 1,\n",
       " 'abernethy': 1,\n",
       " 'Abernon': 1,\n",
       " 'aberr': 1,\n",
       " 'aberrance': 1,\n",
       " 'aberrancy': 1,\n",
       " 'aberrancies': 1,\n",
       " 'aberrant': 1,\n",
       " 'aberrantly': 1,\n",
       " 'aberrants': 1,\n",
       " 'aberrate': 1,\n",
       " 'aberrated': 1,\n",
       " 'aberrating': 1,\n",
       " 'aberration': 1,\n",
       " 'aberrational': 1,\n",
       " 'aberrations': 1,\n",
       " 'aberrative': 1,\n",
       " 'aberrator': 1,\n",
       " 'aberrometer': 1,\n",
       " 'aberroscope': 1,\n",
       " 'Abert': 1,\n",
       " 'aberuncate': 1,\n",
       " 'aberuncator': 1,\n",
       " 'abesse': 1,\n",
       " 'abessive': 1,\n",
       " 'abet': 1,\n",
       " 'abetment': 1,\n",
       " 'abetments': 1,\n",
       " 'abets': 1,\n",
       " 'abettal': 1,\n",
       " 'abettals': 1,\n",
       " 'abetted': 1,\n",
       " 'abetter': 1,\n",
       " 'abetters': 1,\n",
       " 'abetting': 1,\n",
       " 'abettor': 1,\n",
       " 'abettors': 1,\n",
       " 'Abeu': 1,\n",
       " 'abevacuation': 1,\n",
       " 'abfarad': 1,\n",
       " 'abfarads': 1,\n",
       " 'ABFM': 1,\n",
       " 'Abgatha': 1,\n",
       " 'ABHC': 1,\n",
       " 'abhenry': 1,\n",
       " 'abhenries': 1,\n",
       " 'abhenrys': 1,\n",
       " 'abhinaya': 1,\n",
       " 'abhiseka': 1,\n",
       " 'abhominable': 1,\n",
       " 'abhor': 1,\n",
       " 'abhorred': 1,\n",
       " 'abhorrence': 1,\n",
       " 'abhorrences': 1,\n",
       " 'abhorrency': 1,\n",
       " 'abhorrent': 1,\n",
       " 'abhorrently': 1,\n",
       " 'abhorrer': 1,\n",
       " 'abhorrers': 1,\n",
       " 'abhorrible': 1,\n",
       " 'abhorring': 1,\n",
       " 'abhors': 1,\n",
       " 'Abhorson': 1,\n",
       " 'ABI': 1,\n",
       " 'aby': 1,\n",
       " 'Abia': 1,\n",
       " 'Abiathar': 1,\n",
       " 'Abib': 1,\n",
       " 'abichite': 1,\n",
       " 'abidal': 1,\n",
       " 'abidance': 1,\n",
       " 'abidances': 1,\n",
       " 'abidden': 1,\n",
       " 'abide': 1,\n",
       " 'abided': 1,\n",
       " 'abider': 1,\n",
       " 'abiders': 1,\n",
       " 'abides': 1,\n",
       " 'abidi': 1,\n",
       " 'abiding': 1,\n",
       " 'abidingly': 1,\n",
       " 'abidingness': 1,\n",
       " 'Abidjan': 1,\n",
       " 'Abydos': 1,\n",
       " 'Abie': 1,\n",
       " 'abye': 1,\n",
       " 'abied': 1,\n",
       " 'abyed': 1,\n",
       " 'abiegh': 1,\n",
       " 'abience': 1,\n",
       " 'abient': 1,\n",
       " 'Abies': 1,\n",
       " 'abyes': 1,\n",
       " 'abietate': 1,\n",
       " 'abietene': 1,\n",
       " 'abietic': 1,\n",
       " 'abietin': 1,\n",
       " 'Abietineae': 1,\n",
       " 'abietineous': 1,\n",
       " 'abietinic': 1,\n",
       " 'abietite': 1,\n",
       " 'Abiezer': 1,\n",
       " 'Abigael': 1,\n",
       " 'Abigail': 1,\n",
       " 'abigails': 1,\n",
       " 'abigailship': 1,\n",
       " 'Abigale': 1,\n",
       " 'abigeat': 1,\n",
       " 'abigei': 1,\n",
       " 'abigeus': 1,\n",
       " 'Abihu': 1,\n",
       " 'abying': 1,\n",
       " 'Abijah': 1,\n",
       " 'Abyla': 1,\n",
       " 'abilao': 1,\n",
       " 'Abilene': 1,\n",
       " 'abiliment': 1,\n",
       " 'Abilyne': 1,\n",
       " 'abilitable': 1,\n",
       " 'ability': 1,\n",
       " 'abilities': 1,\n",
       " \"ability's\": 1,\n",
       " 'abilla': 1,\n",
       " 'abilo': 1,\n",
       " 'abime': 1,\n",
       " 'Abimelech': 1,\n",
       " 'Abineri': 1,\n",
       " 'Abingdon': 1,\n",
       " 'Abinger': 1,\n",
       " 'Abington': 1,\n",
       " 'Abinoam': 1,\n",
       " 'Abinoem': 1,\n",
       " 'abintestate': 1,\n",
       " 'abiogeneses': 1,\n",
       " 'abiogenesis': 1,\n",
       " 'abiogenesist': 1,\n",
       " 'abiogenetic': 1,\n",
       " 'abiogenetical': 1,\n",
       " 'abiogenetically': 1,\n",
       " 'abiogeny': 1,\n",
       " 'abiogenist': 1,\n",
       " 'abiogenous': 1,\n",
       " 'abiology': 1,\n",
       " 'abiological': 1,\n",
       " 'abiologically': 1,\n",
       " 'abioses': 1,\n",
       " 'abiosis': 1,\n",
       " 'abiotic': 1,\n",
       " 'abiotical': 1,\n",
       " 'abiotically': 1,\n",
       " 'abiotrophy': 1,\n",
       " 'abiotrophic': 1,\n",
       " 'Abipon': 1,\n",
       " 'Abiquiu': 1,\n",
       " 'abir': 1,\n",
       " 'abirritant': 1,\n",
       " 'abirritate': 1,\n",
       " 'abirritated': 1,\n",
       " 'abirritating': 1,\n",
       " 'abirritation': 1,\n",
       " 'abirritative': 1,\n",
       " 'abys': 1,\n",
       " 'Abisag': 1,\n",
       " 'Abisha': 1,\n",
       " 'Abishag': 1,\n",
       " 'Abisia': 1,\n",
       " 'abysm': 1,\n",
       " 'abysmal': 1,\n",
       " 'abysmally': 1,\n",
       " 'abysms': 1,\n",
       " 'Abyss': 1,\n",
       " 'abyssa': 1,\n",
       " 'abyssal': 1,\n",
       " 'abysses': 1,\n",
       " 'Abyssinia': 1,\n",
       " 'Abyssinian': 1,\n",
       " 'abyssinians': 1,\n",
       " 'abyssobenthonic': 1,\n",
       " 'abyssolith': 1,\n",
       " 'abyssopelagic': 1,\n",
       " \"abyss's\": 1,\n",
       " 'abyssus': 1,\n",
       " 'abiston': 1,\n",
       " 'abit': 1,\n",
       " 'Abitibi': 1,\n",
       " 'Abiu': 1,\n",
       " 'abiuret': 1,\n",
       " 'Abixah': 1,\n",
       " 'abject': 1,\n",
       " 'abjectedness': 1,\n",
       " 'abjection': 1,\n",
       " 'abjections': 1,\n",
       " 'abjective': 1,\n",
       " 'abjectly': 1,\n",
       " 'abjectness': 1,\n",
       " 'abjectnesses': 1,\n",
       " 'abjoint': 1,\n",
       " 'abjudge': 1,\n",
       " 'abjudged': 1,\n",
       " 'abjudging': 1,\n",
       " 'abjudicate': 1,\n",
       " 'abjudicated': 1,\n",
       " 'abjudicating': 1,\n",
       " 'abjudication': 1,\n",
       " 'abjudicator': 1,\n",
       " 'abjugate': 1,\n",
       " 'abjunct': 1,\n",
       " 'abjunction': 1,\n",
       " 'abjunctive': 1,\n",
       " 'abjuration': 1,\n",
       " 'abjurations': 1,\n",
       " 'abjuratory': 1,\n",
       " 'abjure': 1,\n",
       " 'abjured': 1,\n",
       " 'abjurement': 1,\n",
       " 'abjurer': 1,\n",
       " 'abjurers': 1,\n",
       " 'abjures': 1,\n",
       " 'abjuring': 1,\n",
       " 'abkar': 1,\n",
       " 'abkari': 1,\n",
       " 'abkary': 1,\n",
       " 'Abkhas': 1,\n",
       " 'Abkhasia': 1,\n",
       " 'Abkhasian': 1,\n",
       " 'Abkhaz': 1,\n",
       " 'Abkhazia': 1,\n",
       " 'Abkhazian': 1,\n",
       " 'abl': 1,\n",
       " 'abl.': 1,\n",
       " 'ablach': 1,\n",
       " 'ablactate': 1,\n",
       " 'ablactated': 1,\n",
       " 'ablactating': 1,\n",
       " 'ablactation': 1,\n",
       " 'ablaqueate': 1,\n",
       " 'ablare': 1,\n",
       " 'A-blast': 1,\n",
       " 'ablastemic': 1,\n",
       " 'ablastin': 1,\n",
       " 'ablastous': 1,\n",
       " 'ablate': 1,\n",
       " 'ablated': 1,\n",
       " 'ablates': 1,\n",
       " 'ablating': 1,\n",
       " 'ablation': 1,\n",
       " 'ablations': 1,\n",
       " 'ablatitious': 1,\n",
       " 'ablatival': 1,\n",
       " 'ablative': 1,\n",
       " 'ablatively': 1,\n",
       " 'ablatives': 1,\n",
       " 'ablator': 1,\n",
       " 'ablaut': 1,\n",
       " 'ablauts': 1,\n",
       " 'ablaze': 1,\n",
       " 'able': 1,\n",
       " 'able-bodied': 1,\n",
       " 'able-bodiedness': 1,\n",
       " 'ableeze': 1,\n",
       " 'ablegate': 1,\n",
       " 'ablegates': 1,\n",
       " 'ablegation': 1,\n",
       " 'able-minded': 1,\n",
       " 'able-mindedness': 1,\n",
       " 'ablend': 1,\n",
       " 'ableness': 1,\n",
       " 'ablepharia': 1,\n",
       " 'ablepharon': 1,\n",
       " 'ablepharous': 1,\n",
       " 'Ablepharus': 1,\n",
       " 'ablepsy': 1,\n",
       " 'ablepsia': 1,\n",
       " 'ableptical': 1,\n",
       " 'ableptically': 1,\n",
       " 'abler': 1,\n",
       " 'ables': 1,\n",
       " 'ablesse': 1,\n",
       " 'ablest': 1,\n",
       " 'ablet': 1,\n",
       " 'ablewhackets': 1,\n",
       " 'ably': 1,\n",
       " 'ablings': 1,\n",
       " 'ablins': 1,\n",
       " 'ablock': 1,\n",
       " 'abloom': 1,\n",
       " 'ablow': 1,\n",
       " 'ABLS': 1,\n",
       " 'ablude': 1,\n",
       " 'abluent': 1,\n",
       " 'abluents': 1,\n",
       " 'ablush': 1,\n",
       " 'ablute': 1,\n",
       " 'abluted': 1,\n",
       " 'ablution': 1,\n",
       " 'ablutionary': 1,\n",
       " 'ablutions': 1,\n",
       " 'abluvion': 1,\n",
       " 'ABM': 1,\n",
       " 'abmho': 1,\n",
       " 'abmhos': 1,\n",
       " 'abmodality': 1,\n",
       " 'abmodalities': 1,\n",
       " 'abn': 1,\n",
       " 'Abnaki': 1,\n",
       " 'Abnakis': 1,\n",
       " 'abnegate': 1,\n",
       " 'abnegated': 1,\n",
       " 'abnegates': 1,\n",
       " 'abnegating': 1,\n",
       " 'abnegation': 1,\n",
       " 'abnegations': 1,\n",
       " 'abnegative': 1,\n",
       " 'abnegator': 1,\n",
       " 'abnegators': 1,\n",
       " 'Abner': 1,\n",
       " 'abnerval': 1,\n",
       " 'abnet': 1,\n",
       " 'abneural': 1,\n",
       " 'abnormal': 1,\n",
       " 'abnormalcy': 1,\n",
       " 'abnormalcies': 1,\n",
       " 'abnormalise': 1,\n",
       " 'abnormalised': 1,\n",
       " 'abnormalising': 1,\n",
       " 'abnormalism': 1,\n",
       " 'abnormalist': 1,\n",
       " 'abnormality': 1,\n",
       " 'abnormalities': 1,\n",
       " 'abnormalize': 1,\n",
       " 'abnormalized': 1,\n",
       " 'abnormalizing': 1,\n",
       " 'abnormally': 1,\n",
       " 'abnormalness': 1,\n",
       " 'abnormals': 1,\n",
       " 'abnormity': 1,\n",
       " 'abnormities': 1,\n",
       " 'abnormous': 1,\n",
       " 'abnumerable': 1,\n",
       " 'Abo': 1,\n",
       " 'aboard': 1,\n",
       " 'aboardage': 1,\n",
       " 'Abobra': 1,\n",
       " 'abococket': 1,\n",
       " 'abodah': 1,\n",
       " 'abode': 1,\n",
       " 'aboded': 1,\n",
       " 'abodement': 1,\n",
       " 'abodes': 1,\n",
       " \"abode's\": 1,\n",
       " 'abody': 1,\n",
       " 'aboding': 1,\n",
       " 'abogado': 1,\n",
       " 'abogados': 1,\n",
       " 'abohm': 1,\n",
       " 'abohms': 1,\n",
       " 'aboideau': 1,\n",
       " 'aboideaus': 1,\n",
       " 'aboideaux': 1,\n",
       " 'aboil': 1,\n",
       " 'aboiteau': 1,\n",
       " 'aboiteaus': 1,\n",
       " 'aboiteaux': 1,\n",
       " 'abolete': 1,\n",
       " 'abolish': 1,\n",
       " 'abolishable': 1,\n",
       " 'abolished': 1,\n",
       " 'abolisher': 1,\n",
       " 'abolishers': 1,\n",
       " 'abolishes': 1,\n",
       " 'abolishing': 1,\n",
       " 'abolishment': 1,\n",
       " 'abolishments': 1,\n",
       " \"abolishment's\": 1,\n",
       " 'abolition': 1,\n",
       " 'abolitionary': 1,\n",
       " 'abolitionise': 1,\n",
       " 'abolitionised': 1,\n",
       " 'abolitionising': 1,\n",
       " 'abolitionism': 1,\n",
       " 'abolitionist': 1,\n",
       " 'abolitionists': 1,\n",
       " 'abolitionize': 1,\n",
       " 'abolitionized': 1,\n",
       " 'abolitionizing': 1,\n",
       " 'abolitions': 1,\n",
       " 'abolla': 1,\n",
       " 'abollae': 1,\n",
       " 'aboma': 1,\n",
       " 'abomas': 1,\n",
       " 'abomasa': 1,\n",
       " 'abomasal': 1,\n",
       " 'abomasi': 1,\n",
       " 'abomasum': 1,\n",
       " 'abomasus': 1,\n",
       " 'abomasusi': 1,\n",
       " 'A-bomb': 1,\n",
       " 'abominability': 1,\n",
       " 'abominable': 1,\n",
       " 'abominableness': 1,\n",
       " 'abominably': 1,\n",
       " 'abominate': 1,\n",
       " 'abominated': 1,\n",
       " 'abominates': 1,\n",
       " 'abominating': 1,\n",
       " 'abomination': 1,\n",
       " 'abominations': 1,\n",
       " 'abominator': 1,\n",
       " 'abominators': 1,\n",
       " 'abomine': 1,\n",
       " 'abondance': 1,\n",
       " 'Abongo': 1,\n",
       " 'abonne': 1,\n",
       " 'abonnement': 1,\n",
       " 'aboon': 1,\n",
       " 'aborad': 1,\n",
       " 'aboral': 1,\n",
       " 'aborally': 1,\n",
       " 'abord': 1,\n",
       " 'Aboriginal': 1,\n",
       " 'aboriginality': 1,\n",
       " 'aboriginally': 1,\n",
       " 'aboriginals': 1,\n",
       " 'aboriginary': 1,\n",
       " 'Aborigine': 1,\n",
       " 'aborigines': 1,\n",
       " \"aborigine's\": 1,\n",
       " 'Abor-miri': 1,\n",
       " 'Aborn': 1,\n",
       " 'aborning': 1,\n",
       " 'a-borning': 1,\n",
       " 'aborsement': 1,\n",
       " 'aborsive': 1,\n",
       " 'abort': 1,\n",
       " 'aborted': 1,\n",
       " 'aborter': 1,\n",
       " 'aborters': 1,\n",
       " 'aborticide': 1,\n",
       " 'abortient': 1,\n",
       " 'abortifacient': 1,\n",
       " 'abortin': 1,\n",
       " 'aborting': 1,\n",
       " 'abortion': 1,\n",
       " 'abortional': 1,\n",
       " 'abortionist': 1,\n",
       " 'abortionists': 1,\n",
       " 'abortions': 1,\n",
       " \"abortion's\": 1,\n",
       " 'abortive': 1,\n",
       " 'abortively': 1,\n",
       " 'abortiveness': 1,\n",
       " 'abortogenic': 1,\n",
       " 'aborts': 1,\n",
       " 'abortus': 1,\n",
       " 'abortuses': 1,\n",
       " 'abos': 1,\n",
       " 'abote': 1,\n",
       " 'Abott': 1,\n",
       " 'abouchement': 1,\n",
       " 'aboudikro': 1,\n",
       " 'abought': 1,\n",
       " 'Aboukir': 1,\n",
       " 'aboulia': 1,\n",
       " 'aboulias': 1,\n",
       " 'aboulic': 1,\n",
       " 'abound': 1,\n",
       " 'abounded': 1,\n",
       " 'abounder': 1,\n",
       " 'abounding': 1,\n",
       " ...}"
      ]
     },
     "execution_count": 38,
     "metadata": {},
     "output_type": "execute_result"
    }
   ],
   "source": [
    "word_dict"
   ]
  },
  {
   "cell_type": "code",
   "execution_count": 39,
   "metadata": {},
   "outputs": [],
   "source": [
    "def much_faster():\n",
    "    count = 0\n",
    "    for word in word_dict:\n",
    "        reversed_word = reverse_word(word)\n",
    "        if reversed_word in word_dict:\n",
    "            count += 1\n",
    "    return count"
   ]
  },
  {
   "cell_type": "code",
   "execution_count": 40,
   "metadata": {},
   "outputs": [
    {
     "data": {
      "text/plain": [
       "2757"
      ]
     },
     "execution_count": 40,
     "metadata": {},
     "output_type": "execute_result"
    }
   ],
   "source": [
    "much_faster()"
   ]
  },
  {
   "cell_type": "markdown",
   "metadata": {},
   "source": [
    "### A collections of counters\n",
    "\n",
    "For counting how many times each letters appears in string,  we can use `Dictionary` is good for this job."
   ]
  },
  {
   "cell_type": "code",
   "execution_count": 41,
   "metadata": {},
   "outputs": [],
   "source": [
    "counter = {}"
   ]
  },
  {
   "cell_type": "markdown",
   "metadata": {},
   "source": [
    "As we loop through the letters in the string, suppose we see the letter a for\n",
    "the first time. We can add it to the dictionary like this."
   ]
  },
  {
   "cell_type": "code",
   "execution_count": 42,
   "metadata": {},
   "outputs": [],
   "source": [
    "counter['a'] = 1"
   ]
  },
  {
   "cell_type": "code",
   "execution_count": 43,
   "metadata": {},
   "outputs": [
    {
     "data": {
      "text/plain": [
       "{'a': 1}"
      ]
     },
     "execution_count": 43,
     "metadata": {},
     "output_type": "execute_result"
    }
   ],
   "source": [
    "counter"
   ]
  },
  {
   "cell_type": "markdown",
   "metadata": {},
   "source": [
    "The value 1 indicates that we have seen the letter once. Later, if we see the\n",
    "same letter again, we can increment the counter like this."
   ]
  },
  {
   "cell_type": "code",
   "execution_count": 44,
   "metadata": {},
   "outputs": [],
   "source": [
    "counter['a'] += 1"
   ]
  },
  {
   "cell_type": "code",
   "execution_count": 45,
   "metadata": {},
   "outputs": [
    {
     "data": {
      "text/plain": [
       "{'a': 2}"
      ]
     },
     "execution_count": 45,
     "metadata": {},
     "output_type": "execute_result"
    }
   ],
   "source": [
    "counter \n"
   ]
  },
  {
   "cell_type": "markdown",
   "metadata": {},
   "source": [
    "The following function uses these features to count the number of times each\n",
    "letter appears in a string."
   ]
  },
  {
   "cell_type": "code",
   "execution_count": 46,
   "metadata": {},
   "outputs": [],
   "source": [
    "def value_counts(string):\n",
    "    counter = {}\n",
    "    for letter in string:\n",
    "        if letter not in counter:\n",
    "            counter[letter] = 1\n",
    "        else:\n",
    "            counter[letter] += 1\n",
    "    return counter"
   ]
  },
  {
   "cell_type": "markdown",
   "metadata": {},
   "source": [
    "Each time through the loop, if letter is not in the dictionary, we create a\n",
    "new item with key letter and value 1. If letter is already in the\n",
    "dictionary we increment the value associated with letter.\n",
    "Here’s an example."
   ]
  },
  {
   "cell_type": "code",
   "execution_count": 47,
   "metadata": {},
   "outputs": [
    {
     "data": {
      "text/plain": [
       "{'r': 1, 'u': 1, 'n': 3, 'i': 1, 'g': 1}"
      ]
     },
     "execution_count": 47,
     "metadata": {},
     "output_type": "execute_result"
    }
   ],
   "source": [
    "counter  = value_counts('running')\n",
    "counter"
   ]
  },
  {
   "cell_type": "markdown",
   "metadata": {},
   "source": [
    "### Looping and dictionaries"
   ]
  },
  {
   "cell_type": "code",
   "execution_count": 48,
   "metadata": {},
   "outputs": [
    {
     "name": "stdout",
     "output_type": "stream",
     "text": [
      "r\n",
      "u\n",
      "n\n",
      "i\n",
      "g\n"
     ]
    }
   ],
   "source": [
    "for key in counter:\n",
    "    print(key)"
   ]
  },
  {
   "cell_type": "code",
   "execution_count": 49,
   "metadata": {},
   "outputs": [
    {
     "name": "stdout",
     "output_type": "stream",
     "text": [
      "1\n",
      "1\n",
      "3\n",
      "1\n",
      "1\n"
     ]
    }
   ],
   "source": [
    "for value in counter.values():\n",
    "    print(value)"
   ]
  },
  {
   "cell_type": "code",
   "execution_count": 50,
   "metadata": {},
   "outputs": [
    {
     "name": "stdout",
     "output_type": "stream",
     "text": [
      "r 1\n",
      "u 1\n",
      "n 3\n",
      "i 1\n",
      "g 1\n"
     ]
    }
   ],
   "source": [
    "for key,value in counter.items():\n",
    "    print(key ,value)"
   ]
  },
  {
   "cell_type": "code",
   "execution_count": 64,
   "metadata": {},
   "outputs": [
    {
     "name": "stdout",
     "output_type": "stream",
     "text": [
      "r 1\n",
      "u 1\n",
      "n 3\n",
      "i 1\n",
      "g 1\n"
     ]
    }
   ],
   "source": [
    "for key in counter:\n",
    "    value = counter[key]\n",
    "    print(key, value)"
   ]
  },
  {
   "cell_type": "markdown",
   "metadata": {},
   "source": [
    "### List and Dictinories"
   ]
  },
  {
   "cell_type": "code",
   "execution_count": 56,
   "metadata": {},
   "outputs": [
    {
     "data": {
      "text/plain": [
       "{4: ['a', 'm', 'o', 'l']}"
      ]
     },
     "execution_count": 56,
     "metadata": {},
     "output_type": "execute_result"
    }
   ],
   "source": [
    "d = {4: ['a', 'm', 'o', 'l']}\n",
    "d"
   ]
  },
  {
   "cell_type": "code",
   "execution_count": 57,
   "metadata": {},
   "outputs": [
    {
     "ename": "NameError",
     "evalue": "name 'letters' is not defined",
     "output_type": "error",
     "traceback": [
      "\u001b[1;31m---------------------------------------------------------------------------\u001b[0m",
      "\u001b[1;31mNameError\u001b[0m                                 Traceback (most recent call last)",
      "Cell \u001b[1;32mIn[57], line 1\u001b[0m\n\u001b[1;32m----> 1\u001b[0m d[\u001b[43mletters\u001b[49m] \u001b[38;5;241m=\u001b[39m \u001b[38;5;241m4\u001b[39m\n",
      "\u001b[1;31mNameError\u001b[0m: name 'letters' is not defined"
     ]
    }
   ],
   "source": [
    "d[letters] = 4"
   ]
  },
  {
   "cell_type": "code",
   "execution_count": 58,
   "metadata": {},
   "outputs": [
    {
     "data": {
      "text/plain": [
       "{4: ['a', 'm', 'o', 'l']}"
      ]
     },
     "execution_count": 58,
     "metadata": {},
     "output_type": "execute_result"
    }
   ],
   "source": [
    "d"
   ]
  },
  {
   "cell_type": "markdown",
   "metadata": {},
   "source": [
    "### Memos"
   ]
  },
  {
   "cell_type": "code",
   "execution_count": 60,
   "metadata": {},
   "outputs": [],
   "source": [
    "def fibonacci(n):\n",
    "    if n == 0:\n",
    "        return 0\n",
    "    if n == 1:\n",
    "        return 1\n",
    "    \n",
    "    return fibonacci(n-1) + fibonacci(n-2)"
   ]
  },
  {
   "cell_type": "code",
   "execution_count": 62,
   "metadata": {},
   "outputs": [
    {
     "data": {
      "text/plain": [
       "3"
      ]
     },
     "execution_count": 62,
     "metadata": {},
     "output_type": "execute_result"
    }
   ],
   "source": [
    "fibonacci(4)"
   ]
  },
  {
   "cell_type": "code",
   "execution_count": 66,
   "metadata": {},
   "outputs": [],
   "source": [
    "known = {0:0, 1:1}\n",
    "\n",
    "def fibonacci_memo(n):\n",
    "    if n in known:\n",
    "        return known[n]\n",
    "    \n",
    "    res = fibonacci_memo(n-1) + fibonacci_memo(n-2)\n",
    "    known[n] = res\n",
    "    return res"
   ]
  },
  {
   "cell_type": "code",
   "execution_count": 67,
   "metadata": {},
   "outputs": [
    {
     "data": {
      "text/plain": [
       "{0: 0, 1: 1}"
      ]
     },
     "execution_count": 67,
     "metadata": {},
     "output_type": "execute_result"
    }
   ],
   "source": [
    "known"
   ]
  },
  {
   "cell_type": "code",
   "execution_count": 68,
   "metadata": {},
   "outputs": [
    {
     "data": {
      "text/plain": [
       "102334155"
      ]
     },
     "execution_count": 68,
     "metadata": {},
     "output_type": "execute_result"
    }
   ],
   "source": [
    "fibonacci(40)"
   ]
  },
  {
   "cell_type": "code",
   "execution_count": 69,
   "metadata": {},
   "outputs": [
    {
     "data": {
      "text/plain": [
       "102334155"
      ]
     },
     "execution_count": 69,
     "metadata": {},
     "output_type": "execute_result"
    }
   ],
   "source": [
    "fibonacci_memo(40)"
   ]
  },
  {
   "cell_type": "markdown",
   "metadata": {},
   "source": [
    "### Debugging\n",
    "As you work with bigger datasets it can become unwieldy to debug by\n",
    "printing and checking the output by hand. Here are some suggestions for\n",
    "debugging large datasets:\n",
    "1. Scale down the input: If possible, reduce the size of the dataset. For\n",
    "example if the program reads a text file, start with just the first 10 lines,\n",
    "or with the smallest example you can find. You can either edit the files\n",
    "themselves, or (better) modify the program so it reads only the first n\n",
    "lines.\n",
    "If there is an error, you can reduce n to the smallest value where the\n",
    "error occurs. As you find and correct errors, you can increase n\n",
    "gradually.\n",
    "2. Check summaries and types: Instead of printing and checking the entire\n",
    "dataset, consider printing summaries of the data – for example, the\n",
    "number of items in a dictionary or the total of a list of numbers.\n",
    "A common cause of runtime errors is a value that is not the right type.\n",
    "For debugging this kind of error, it is often enough to print the type of a\n",
    "value.\n",
    "3. Write self-checks: Sometimes you can write code to check for errors\n",
    "automatically. For example, if you are computing the average of a list of\n",
    "numbers, you could check that the result is not greater than the largest\n",
    "element in the list or less than the smallest. This is called a “sanity\n",
    "check” because it detects results that are “insane”.\n",
    "Another kind of check compares the results of two different\n",
    "computations to see if they are consistent. This is called a “consistency\n",
    "check”.\n",
    "4. Format the output: Formatting debugging output can make it easier to\n",
    "spot an error. We saw an example in Section xxx. Another tool you\n",
    "might find useful is the pprint module, which provides a pprint\n",
    "function that displays built-in types in a more human-readable format\n",
    "(pprint stands for “pretty print”).\n",
    "Again, time you spend building scaffolding can reduce the time you\n",
    "spend debugging."
   ]
  },
  {
   "cell_type": "code",
   "execution_count": 70,
   "metadata": {},
   "outputs": [
    {
     "data": {
      "text/plain": [
       "'shoe'"
      ]
     },
     "execution_count": 70,
     "metadata": {},
     "output_type": "execute_result"
    }
   ],
   "source": [
    "word = 'schooled'\n",
    "first = word[0:None:2]\n",
    "first"
   ]
  },
  {
   "cell_type": "code",
   "execution_count": 71,
   "metadata": {},
   "outputs": [
    {
     "data": {
      "text/plain": [
       "'cold'"
      ]
     },
     "execution_count": 71,
     "metadata": {},
     "output_type": "execute_result"
    }
   ],
   "source": [
    "second = word[1::2]\n",
    "second"
   ]
  },
  {
   "cell_type": "code",
   "execution_count": null,
   "metadata": {},
   "outputs": [],
   "source": []
  }
 ],
 "metadata": {
  "kernelspec": {
   "display_name": "LLM",
   "language": "python",
   "name": "python3"
  },
  "language_info": {
   "codemirror_mode": {
    "name": "ipython",
    "version": 3
   },
   "file_extension": ".py",
   "mimetype": "text/x-python",
   "name": "python",
   "nbconvert_exporter": "python",
   "pygments_lexer": "ipython3",
   "version": "3.11.8"
  }
 },
 "nbformat": 4,
 "nbformat_minor": 2
}
